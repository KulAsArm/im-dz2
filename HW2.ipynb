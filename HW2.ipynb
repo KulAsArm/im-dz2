{
 "cells": [
  {
   "cell_type": "markdown",
   "metadata": {},
   "source": [
    "## Import libs"
   ]
  },
  {
   "cell_type": "code",
   "execution_count": 29,
   "metadata": {},
   "outputs": [],
   "source": [
    "import numpy as np\n",
    "import time\n",
    "import math"
   ]
  },
  {
   "cell_type": "markdown",
   "metadata": {},
   "source": [
    "## Initialisation"
   ]
  },
  {
   "cell_type": "code",
   "execution_count": 38,
   "metadata": {},
   "outputs": [
    {
     "name": "stdout",
     "output_type": "stream",
     "text": [
      "Станок с id 7 и временем 1 перемещается в CEКС(BLACKHOLE)\n",
      "Станок с id 7 и временем 1 перемещен в CEC\n",
      "1\n",
      "[1, 12, 'is working', 0]\n",
      "[2, 11, 'is working', 0]\n",
      "[3, 4, 'is working', 0]\n",
      "[4, 9, 'is working', 0]\n",
      "[5, 4, 'is working', 0]\n",
      "[6, 15, 'is working', 0]\n",
      "[8, 9, 'is working', 0]\n",
      "[9, 37, 'is working', 0]\n",
      "[10, 2, 'is working', 0]\n",
      "[11, 1, 'is working', 0]\n",
      "[12, 9, 'is working', 0]\n",
      "[13, 6, 'is working', 0]\n",
      "[14, 1, 'is working', 0]\n",
      "[15, 3, 'is working', 0]\n",
      "[16, 28, 'is working', 0]\n",
      "[17, 1, 'is working', 0]\n",
      "[18, 13, 'is working', 0]\n",
      "[19, 7, 'is working', 0]\n",
      "[20, 5, 'is working', 0]\n",
      "[21, 1, 'is working', 0]\n",
      "[7, 1, 'is working', 0]\n",
      "NEW FEC\n",
      "[1, 12, 'is working', 0]\n",
      "[2, 11, 'is working', 0]\n",
      "[3, 4, 'is working', 0]\n",
      "[4, 9, 'is working', 0]\n",
      "[5, 4, 'is working', 0]\n",
      "[6, 15, 'is working', 0]\n",
      "[8, 9, 'is working', 0]\n",
      "[9, 37, 'is working', 0]\n",
      "[10, 2, 'is working', 0]\n",
      "[11, 1, 'is working', 0]\n",
      "[12, 9, 'is working', 0]\n",
      "[13, 6, 'is working', 0]\n",
      "[14, 1, 'is working', 0]\n",
      "[15, 3, 'is working', 0]\n",
      "[16, 28, 'is working', 0]\n",
      "[17, 1, 'is working', 0]\n",
      "[18, 13, 'is working', 0]\n",
      "[19, 7, 'is working', 0]\n",
      "[20, 5, 'is working', 0]\n",
      "[21, 1, 'is working', 0]\n",
      "[7, 40, 'is working', 1]\n"
     ]
    },
    {
     "name": "stderr",
     "output_type": "stream",
     "text": [
      "/var/folders/m3/s66gcfbn4lj4tb84p633t5qc0000gn/T/ipykernel_53046/989950628.py:35: DeprecationWarning: Conversion of an array with ndim > 0 to a scalar is deprecated, and will error in future. Ensure you extract a single element from your array before performing this operation. (Deprecated NumPy 1.25.)\n",
      "  min_el[1] = time+ math.ceil(np.random.exponential(Tc, 1))\n"
     ]
    }
   ],
   "source": [
    "# N  = 20 + int(input('Введите номер месяца рождени: '))()\n",
    "# Tc = 10 + int(input(\"Введите номер по журналу\"))\n",
    "# Ts = 15 + int(input('Введите число рождения ')) \n",
    "\n",
    "# NUM_WORKERS = int(input('Введите число наладчиков: ')) \n",
    "N = 20 + 1\n",
    "Tc= 10 + 2\n",
    "Ts = 15 + 10\n",
    "\n",
    "NUM_WORKERS = 10\n",
    "state = 'is working'\n",
    "# добавить комментарий о том что здесь происходит чтобы потом не забыть\n",
    "# \n",
    "FEC =  [[id, Time, state, 0] for id, Time in zip([id for id in range(1, N+1)], [math.ceil(Time) for Time in np.random.exponential(Tc, N)])]\n",
    "time = 0\n",
    "Sys_Status = \"FP\"\n",
    "# for i in FEC:\n",
    "#     print(i)\n",
    "\n",
    "CEC = []\n",
    "# поиск минимального элемента\n",
    "min_el = min(FEC, key=lambda x: x[1])\n",
    "Sys_Status = \"FCT\"\n",
    "print(f\"Станок с id {min_el[0]} и временем {min_el[1]} перемещается в CEКС(BLACKHOLE)\")\n",
    "# перенести из FEC в CEC \n",
    "CEC.append(min_el)\n",
    "print(f\"Станок с id {CEC[0][0]} и временем {CEC[0][1]} перемещен в CEC\")\n",
    "# удалить из FEC найденный элемент\n",
    "FEC.remove(min_el)\n",
    "# добавить время и обрабатываемую деталь\n",
    "time = time + min_el[1]\n",
    "print(time)\n",
    "print(*FEC, *CEC, sep='\\n')\n",
    "\n",
    "min_el[1] = time + math.ceil(np.random.exponential(Tc, 1))\n",
    "min_el[3] += 1\n",
    "FEC.append(min_el)\n",
    "print(\"NEW FEC\")\n",
    "print(*FEC,sep='\\n')\n"
   ]
  },
  {
   "cell_type": "code",
   "execution_count": null,
   "metadata": {},
   "outputs": [],
   "source": []
  }
 ],
 "metadata": {
  "kernelspec": {
   "display_name": "Python 3",
   "language": "python",
   "name": "python3"
  },
  "language_info": {
   "codemirror_mode": {
    "name": "ipython",
    "version": 3
   },
   "file_extension": ".py",
   "mimetype": "text/x-python",
   "name": "python",
   "nbconvert_exporter": "python",
   "pygments_lexer": "ipython3",
   "version": "3.11.7"
  }
 },
 "nbformat": 4,
 "nbformat_minor": 2
}
